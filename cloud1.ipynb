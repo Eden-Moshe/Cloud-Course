{
  "nbformat": 4,
  "nbformat_minor": 0,
  "metadata": {
    "colab": {
      "provenance": [],
      "authorship_tag": "ABX9TyNkrcbHXDlcK7i+rEsvYnON",
      "include_colab_link": true
    },
    "kernelspec": {
      "name": "python3",
      "display_name": "Python 3"
    },
    "language_info": {
      "name": "python"
    },
    "widgets": {
      "application/vnd.jupyter.widget-state+json": {
        "8244302bef9f41819be00b07e7154906": {
          "model_module": "@jupyter-widgets/controls",
          "model_name": "DropdownModel",
          "model_module_version": "1.5.0",
          "state": {
            "_dom_classes": [],
            "_model_module": "@jupyter-widgets/controls",
            "_model_module_version": "1.5.0",
            "_model_name": "DropdownModel",
            "_options_labels": [
              "בחר סטודנט",
              "Eden Moshe",
              "Yaniv Shtein",
              "Sheli Zisman",
              "Shalev Cohen",
              "Ron Korointoro",
              "Bari Cohen"
            ],
            "_view_count": null,
            "_view_module": "@jupyter-widgets/controls",
            "_view_module_version": "1.5.0",
            "_view_name": "DropdownView",
            "description": "סטודנט:",
            "description_tooltip": null,
            "disabled": false,
            "index": 0,
            "layout": "IPY_MODEL_5084520fec934137b57880841c9a7146",
            "style": "IPY_MODEL_2cc1b85a26f54c7ab4068ee7967a4a32"
          }
        },
        "5084520fec934137b57880841c9a7146": {
          "model_module": "@jupyter-widgets/base",
          "model_name": "LayoutModel",
          "model_module_version": "1.2.0",
          "state": {
            "_model_module": "@jupyter-widgets/base",
            "_model_module_version": "1.2.0",
            "_model_name": "LayoutModel",
            "_view_count": null,
            "_view_module": "@jupyter-widgets/base",
            "_view_module_version": "1.2.0",
            "_view_name": "LayoutView",
            "align_content": null,
            "align_items": null,
            "align_self": null,
            "border": null,
            "bottom": null,
            "display": null,
            "flex": null,
            "flex_flow": null,
            "grid_area": null,
            "grid_auto_columns": null,
            "grid_auto_flow": null,
            "grid_auto_rows": null,
            "grid_column": null,
            "grid_gap": null,
            "grid_row": null,
            "grid_template_areas": null,
            "grid_template_columns": null,
            "grid_template_rows": null,
            "height": null,
            "justify_content": null,
            "justify_items": null,
            "left": null,
            "margin": null,
            "max_height": null,
            "max_width": null,
            "min_height": null,
            "min_width": null,
            "object_fit": null,
            "object_position": null,
            "order": null,
            "overflow": null,
            "overflow_x": null,
            "overflow_y": null,
            "padding": null,
            "right": null,
            "top": null,
            "visibility": null,
            "width": null
          }
        },
        "2cc1b85a26f54c7ab4068ee7967a4a32": {
          "model_module": "@jupyter-widgets/controls",
          "model_name": "DescriptionStyleModel",
          "model_module_version": "1.5.0",
          "state": {
            "_model_module": "@jupyter-widgets/controls",
            "_model_module_version": "1.5.0",
            "_model_name": "DescriptionStyleModel",
            "_view_count": null,
            "_view_module": "@jupyter-widgets/base",
            "_view_module_version": "1.2.0",
            "_view_name": "StyleView",
            "description_width": ""
          }
        },
        "a415a3f103fe4563b5b963d92a792d25": {
          "model_module": "@jupyter-widgets/output",
          "model_name": "OutputModel",
          "model_module_version": "1.0.0",
          "state": {
            "_dom_classes": [],
            "_model_module": "@jupyter-widgets/output",
            "_model_module_version": "1.0.0",
            "_model_name": "OutputModel",
            "_view_count": null,
            "_view_module": "@jupyter-widgets/output",
            "_view_module_version": "1.0.0",
            "_view_name": "OutputView",
            "layout": "IPY_MODEL_bde923bc3071451d8b708dfb3eb03efd",
            "msg_id": "",
            "outputs": []
          }
        },
        "bde923bc3071451d8b708dfb3eb03efd": {
          "model_module": "@jupyter-widgets/base",
          "model_name": "LayoutModel",
          "model_module_version": "1.2.0",
          "state": {
            "_model_module": "@jupyter-widgets/base",
            "_model_module_version": "1.2.0",
            "_model_name": "LayoutModel",
            "_view_count": null,
            "_view_module": "@jupyter-widgets/base",
            "_view_module_version": "1.2.0",
            "_view_name": "LayoutView",
            "align_content": null,
            "align_items": null,
            "align_self": null,
            "border": null,
            "bottom": null,
            "display": null,
            "flex": null,
            "flex_flow": null,
            "grid_area": null,
            "grid_auto_columns": null,
            "grid_auto_flow": null,
            "grid_auto_rows": null,
            "grid_column": null,
            "grid_gap": null,
            "grid_row": null,
            "grid_template_areas": null,
            "grid_template_columns": null,
            "grid_template_rows": null,
            "height": null,
            "justify_content": null,
            "justify_items": null,
            "left": null,
            "margin": null,
            "max_height": null,
            "max_width": null,
            "min_height": null,
            "min_width": null,
            "object_fit": null,
            "object_position": null,
            "order": null,
            "overflow": null,
            "overflow_x": null,
            "overflow_y": null,
            "padding": null,
            "right": null,
            "top": null,
            "visibility": null,
            "width": null
          }
        },
        "378c11c24a7848b5b41b586978b07c97": {
          "model_module": "@jupyter-widgets/controls",
          "model_name": "TextModel",
          "model_module_version": "1.5.0",
          "state": {
            "_dom_classes": [],
            "_model_module": "@jupyter-widgets/controls",
            "_model_module_version": "1.5.0",
            "_model_name": "TextModel",
            "_view_count": null,
            "_view_module": "@jupyter-widgets/controls",
            "_view_module_version": "1.5.0",
            "_view_name": "TextView",
            "continuous_update": true,
            "description": "תוכנית אהובה:",
            "description_tooltip": null,
            "disabled": false,
            "layout": "IPY_MODEL_ea96672044b34cf6835d0c1e32ed50a4",
            "placeholder": "הזן תוכנית אהובה",
            "style": "IPY_MODEL_f9ae53bd6b424880b9ee47150438d198",
            "value": ""
          }
        },
        "ea96672044b34cf6835d0c1e32ed50a4": {
          "model_module": "@jupyter-widgets/base",
          "model_name": "LayoutModel",
          "model_module_version": "1.2.0",
          "state": {
            "_model_module": "@jupyter-widgets/base",
            "_model_module_version": "1.2.0",
            "_model_name": "LayoutModel",
            "_view_count": null,
            "_view_module": "@jupyter-widgets/base",
            "_view_module_version": "1.2.0",
            "_view_name": "LayoutView",
            "align_content": null,
            "align_items": null,
            "align_self": null,
            "border": null,
            "bottom": null,
            "display": null,
            "flex": null,
            "flex_flow": null,
            "grid_area": null,
            "grid_auto_columns": null,
            "grid_auto_flow": null,
            "grid_auto_rows": null,
            "grid_column": null,
            "grid_gap": null,
            "grid_row": null,
            "grid_template_areas": null,
            "grid_template_columns": null,
            "grid_template_rows": null,
            "height": null,
            "justify_content": null,
            "justify_items": null,
            "left": null,
            "margin": null,
            "max_height": null,
            "max_width": null,
            "min_height": null,
            "min_width": null,
            "object_fit": null,
            "object_position": null,
            "order": null,
            "overflow": null,
            "overflow_x": null,
            "overflow_y": null,
            "padding": null,
            "right": null,
            "top": null,
            "visibility": null,
            "width": null
          }
        },
        "f9ae53bd6b424880b9ee47150438d198": {
          "model_module": "@jupyter-widgets/controls",
          "model_name": "DescriptionStyleModel",
          "model_module_version": "1.5.0",
          "state": {
            "_model_module": "@jupyter-widgets/controls",
            "_model_module_version": "1.5.0",
            "_model_name": "DescriptionStyleModel",
            "_view_count": null,
            "_view_module": "@jupyter-widgets/base",
            "_view_module_version": "1.2.0",
            "_view_name": "StyleView",
            "description_width": ""
          }
        },
        "f02bf5ccb3cc4acfbb0f04ae11c17fa1": {
          "model_module": "@jupyter-widgets/controls",
          "model_name": "ButtonModel",
          "model_module_version": "1.5.0",
          "state": {
            "_dom_classes": [],
            "_model_module": "@jupyter-widgets/controls",
            "_model_module_version": "1.5.0",
            "_model_name": "ButtonModel",
            "_view_count": null,
            "_view_module": "@jupyter-widgets/controls",
            "_view_module_version": "1.5.0",
            "_view_name": "ButtonView",
            "button_style": "",
            "description": "עדכן תוכנית אהובה",
            "disabled": false,
            "icon": "",
            "layout": "IPY_MODEL_b3923b331b4f43c0aee2a42b680d4e09",
            "style": "IPY_MODEL_5b7275d4a40d45c38ff37e2e657fe400",
            "tooltip": ""
          }
        },
        "b3923b331b4f43c0aee2a42b680d4e09": {
          "model_module": "@jupyter-widgets/base",
          "model_name": "LayoutModel",
          "model_module_version": "1.2.0",
          "state": {
            "_model_module": "@jupyter-widgets/base",
            "_model_module_version": "1.2.0",
            "_model_name": "LayoutModel",
            "_view_count": null,
            "_view_module": "@jupyter-widgets/base",
            "_view_module_version": "1.2.0",
            "_view_name": "LayoutView",
            "align_content": null,
            "align_items": null,
            "align_self": null,
            "border": null,
            "bottom": null,
            "display": null,
            "flex": null,
            "flex_flow": null,
            "grid_area": null,
            "grid_auto_columns": null,
            "grid_auto_flow": null,
            "grid_auto_rows": null,
            "grid_column": null,
            "grid_gap": null,
            "grid_row": null,
            "grid_template_areas": null,
            "grid_template_columns": null,
            "grid_template_rows": null,
            "height": null,
            "justify_content": null,
            "justify_items": null,
            "left": null,
            "margin": null,
            "max_height": null,
            "max_width": null,
            "min_height": null,
            "min_width": null,
            "object_fit": null,
            "object_position": null,
            "order": null,
            "overflow": null,
            "overflow_x": null,
            "overflow_y": null,
            "padding": null,
            "right": null,
            "top": null,
            "visibility": null,
            "width": null
          }
        },
        "5b7275d4a40d45c38ff37e2e657fe400": {
          "model_module": "@jupyter-widgets/controls",
          "model_name": "ButtonStyleModel",
          "model_module_version": "1.5.0",
          "state": {
            "_model_module": "@jupyter-widgets/controls",
            "_model_module_version": "1.5.0",
            "_model_name": "ButtonStyleModel",
            "_view_count": null,
            "_view_module": "@jupyter-widgets/base",
            "_view_module_version": "1.2.0",
            "_view_name": "StyleView",
            "button_color": null,
            "font_weight": ""
          }
        }
      }
    }
  },
  "cells": [
    {
      "cell_type": "markdown",
      "metadata": {
        "id": "view-in-github",
        "colab_type": "text"
      },
      "source": [
        "<a href=\"https://colab.research.google.com/github/Eden-Moshe/Cloud-Course/blob/main/cloud1.ipynb\" target=\"_parent\"><img src=\"https://colab.research.google.com/assets/colab-badge.svg\" alt=\"Open In Colab\"/></a>"
      ]
    },
    {
      "cell_type": "code",
      "execution_count": 11,
      "metadata": {
        "id": "inICpooo23k9",
        "colab": {
          "base_uri": "https://localhost:8080/",
          "height": 135,
          "referenced_widgets": [
            "8244302bef9f41819be00b07e7154906",
            "5084520fec934137b57880841c9a7146",
            "2cc1b85a26f54c7ab4068ee7967a4a32",
            "a415a3f103fe4563b5b963d92a792d25",
            "bde923bc3071451d8b708dfb3eb03efd",
            "378c11c24a7848b5b41b586978b07c97",
            "ea96672044b34cf6835d0c1e32ed50a4",
            "f9ae53bd6b424880b9ee47150438d198",
            "f02bf5ccb3cc4acfbb0f04ae11c17fa1",
            "b3923b331b4f43c0aee2a42b680d4e09",
            "5b7275d4a40d45c38ff37e2e657fe400"
          ]
        },
        "outputId": "bda14896-1f7a-423e-9c58-361fef0d6906"
      },
      "outputs": [
        {
          "output_type": "stream",
          "name": "stdout",
          "text": [
            "Drive already mounted at /content/drive; to attempt to forcibly remount, call drive.mount(\"/content/drive\", force_remount=True).\n"
          ]
        },
        {
          "output_type": "display_data",
          "data": {
            "text/plain": [
              "Dropdown(description='סטודנט:', options=('בחר סטודנט', 'Eden Moshe', 'Yaniv Shtein', 'Sheli Zisman', 'Shalev C…"
            ],
            "application/vnd.jupyter.widget-view+json": {
              "version_major": 2,
              "version_minor": 0,
              "model_id": "8244302bef9f41819be00b07e7154906"
            }
          },
          "metadata": {}
        },
        {
          "output_type": "display_data",
          "data": {
            "text/plain": [
              "Output()"
            ],
            "application/vnd.jupyter.widget-view+json": {
              "version_major": 2,
              "version_minor": 0,
              "model_id": "a415a3f103fe4563b5b963d92a792d25"
            }
          },
          "metadata": {}
        },
        {
          "output_type": "stream",
          "name": "stdout",
          "text": [
            "התוכנית Last of Us עודכנה בהצלחה לסטודנט Eden Moshe.\n",
            "התוכנית Game of Thrones עודכנה בהצלחה לסטודנט Eden Moshe.\n"
          ]
        },
        {
          "output_type": "display_data",
          "data": {
            "text/plain": [
              "Button(description='עדכן תוכנית אהובה', style=ButtonStyle())"
            ],
            "application/vnd.jupyter.widget-view+json": {
              "version_major": 2,
              "version_minor": 0,
              "model_id": "f02bf5ccb3cc4acfbb0f04ae11c17fa1"
            }
          },
          "metadata": {}
        }
      ],
      "source": [
        "from google.colab import drive\n",
        "import ipywidgets as widgets\n",
        "from IPython.display import display\n",
        "\n",
        "# חיבור לגוגל דרייב\n",
        "drive.mount('/content/drive')\n",
        "\n",
        "# נתיב הקובץ\n",
        "file_path = \"/content/student.txt\"  # עדכן את הנתיב לפי המיקום שלך\n",
        "\n",
        "# קריאה מהקובץ והדפסה\n",
        "try:\n",
        "    with open(file_path, \"r\", encoding=\"utf-8\") as file:\n",
        "        contents = file.read()\n",
        "except FileNotFoundError:\n",
        "    print(\"⚠️ הקובץ לא נמצא.\")\n",
        "\n",
        "# עיבוד הנתונים ושמירתם במילון\n",
        "students = {}\n",
        "\n",
        "for line in contents.strip().split(\"\\n\"):\n",
        "    parts = line.strip().split(\",\")  # הפרדת הנתונים לפי פסיקים\n",
        "    if len(parts) >= 2:\n",
        "        name = parts[0].strip()  # שם הסטודנט\n",
        "        details = \", \".join(parts[1:]).strip()  # שאר הפרטים\n",
        "        students[name] = details\n",
        "\n",
        "# יצירת Dropdown עם שמות הסטודנטים\n",
        "dropdown = widgets.Dropdown(\n",
        "    options=[\"בחר סטודנט\"] + list(students.keys()),\n",
        "    description=\"סטודנט:\",\n",
        ")\n",
        "\n",
        "# יצירת תיבת טקסט להצגת הפרטים\n",
        "output = widgets.Output()\n",
        "\n",
        "# תיבת טקסט להוספת תוכנית אהובה\n",
        "favorite_program_text = widgets.Text(\n",
        "    description=\"תוכנית אהובה:\",\n",
        "    placeholder=\"הזן תוכנית אהובה\",\n",
        ")\n",
        "\n",
        "# כפתור לעדכון תוכנית אהובה\n",
        "update_button = widgets.Button(description=\"עדכן תוכנית אהובה\")\n",
        "\n",
        "# פונקציה לעדכון תוכנית אהובה\n",
        "def update_favorite_program(student_name, favorite_program):\n",
        "    if student_name in students:\n",
        "        # החלפת תוכנית אהובה לפרטי הסטודנט\n",
        "        details = students[student_name]\n",
        "\n",
        "        # אם קיימת תוכנית אהובה, נחליף אותה\n",
        "        details_list = details.split(\", \")\n",
        "        # נוודא שהתוכנית האהובה לא קיימת כבר\n",
        "        details_list = [d for d in details_list if \"תוכנית אהובה\" not in d]\n",
        "        details_list.append(f\"תוכנית אהובה: {favorite_program}\")\n",
        "        students[student_name] = \", \".join(details_list)\n",
        "\n",
        "        # כתיבה חזרה לקובץ\n",
        "        with open(file_path, \"w\", encoding=\"utf-8\") as file:\n",
        "            for name, details in students.items():\n",
        "                file.write(f\"{name}, {details}\\n\")\n",
        "\n",
        "        print(f\"התוכנית {favorite_program} עודכנה בהצלחה לסטודנט {student_name}.\")\n",
        "    else:\n",
        "        print(f\"⚠️ הסטודנט {student_name} לא נמצא.\")\n",
        "\n",
        "# פונקציה שמתבצעת כאשר בוחרים סטודנט\n",
        "def on_select(change):\n",
        "    with output:\n",
        "        output.clear_output()\n",
        "        if change[\"new\"] in students:\n",
        "            # הדפסת פרטי הסטודנט\n",
        "            print(f\"פרטי הסטודנט:\\n{students[change['new']]}\")\n",
        "\n",
        "            # הצגת תיבת טקסט והכפתור לעדכון תוכנית אהובה\n",
        "            display(favorite_program_text)\n",
        "            favorite_program_text.value = \"\"  # ריקון תיבת הטקסט\n",
        "\n",
        "            # כפתור לעדכון תוכנית אהובה\n",
        "            display(update_button)\n",
        "\n",
        "# פונקציה שמתבצעת כאשר לוחצים על כפתור העדכון\n",
        "def on_update_button_clicked(b):\n",
        "    selected_student = dropdown.value\n",
        "    favorite_program = favorite_program_text.value\n",
        "    if selected_student != \"בחר סטודנט\" and favorite_program:\n",
        "        update_favorite_program(selected_student, favorite_program)\n",
        "\n",
        "# חיבור בין כפתור העדכון לפונקציה\n",
        "update_button.on_click(on_update_button_clicked)\n",
        "\n",
        "# חיבור לצפייה בשינוי הבחירה של הסטודנט\n",
        "dropdown.observe(on_select, names=\"value\")\n",
        "\n",
        "# הצגת ה-dropdown ותיבת הפלט\n",
        "display(dropdown, output)\n"
      ]
    }
  ]
}