{
  "cells": [
    {
      "cell_type": "code",
      "execution_count": 10,
      "metadata": {
        "colab": {
          "base_uri": "https://localhost:8080/"
        },
        "id": "jOem69IHTStj",
        "outputId": "9ef9e2b5-946e-40ee-c716-f1c9d17daba4"
      },
      "outputs": [
        {
          "output_type": "stream",
          "name": "stdout",
          "text": [
            "Requirement already satisfied: firebase in /usr/local/lib/python3.11/dist-packages (4.0.1)\n",
            "Requirement already satisfied: requests in /usr/local/lib/python3.11/dist-packages (from firebase) (2.32.3)\n",
            "Requirement already satisfied: charset-normalizer<4,>=2 in /usr/local/lib/python3.11/dist-packages (from requests->firebase) (3.4.1)\n",
            "Requirement already satisfied: idna<4,>=2.5 in /usr/local/lib/python3.11/dist-packages (from requests->firebase) (3.10)\n",
            "Requirement already satisfied: urllib3<3,>=1.21.1 in /usr/local/lib/python3.11/dist-packages (from requests->firebase) (2.4.0)\n",
            "Requirement already satisfied: certifi>=2017.4.17 in /usr/local/lib/python3.11/dist-packages (from requests->firebase) (2025.4.26)\n"
          ]
        }
      ],
      "source": [
        "!pip install firebase"
      ]
    },
    {
      "cell_type": "code",
      "execution_count": 11,
      "metadata": {
        "id": "PdbFWRyEZrVd"
      },
      "outputs": [],
      "source": [
        "from firebase import firebase\n",
        "FBconn = firebase.FirebaseApplication('https://tirgul5-b9087-default-rtdb.firebaseio.com',None)"
      ]
    },
    {
      "cell_type": "code",
      "execution_count": null,
      "metadata": {
        "colab": {
          "base_uri": "https://localhost:8080/"
        },
        "id": "GHJHRJ10Z3hR",
        "outputId": "68270fba-be9e-4058-bf11-851b198737d7"
      },
      "outputs": [
        {
          "output_type": "stream",
          "name": "stdout",
          "text": [
            "\n",
            "Words Tracker Menu:\n",
            "1. Add Single Word\n",
            "2. Add Text For Analysis\n",
            "3. Update Word Count\n",
            "4. Delete word\n",
            "5. View All Words\n",
            "6. Exit\n",
            "\n",
            "Enter your choice (1-6): 1\n",
            "What is the word? toy\n",
            "Word 'toy' added successfully!\n",
            "\n",
            "Words Tracker Menu:\n",
            "1. Add Single Word\n",
            "2. Add Text For Analysis\n",
            "3. Update Word Count\n",
            "4. Delete word\n",
            "5. View All Words\n",
            "6. Exit\n",
            "\n",
            "Enter your choice (1-6): 5\n",
            "\n",
            "Current Records:\n",
            "ID: toy - wordCount: 1\n",
            "\n",
            "Words Tracker Menu:\n",
            "1. Add Single Word\n",
            "2. Add Text For Analysis\n",
            "3. Update Word Count\n",
            "4. Delete word\n",
            "5. View All Words\n",
            "6. Exit\n"
          ]
        }
      ],
      "source": [
        "import time\n",
        "\n",
        "\n",
        "def get_all_records():\n",
        "    \"\"\"Retrieve all temperature records\"\"\"\n",
        "    return FBconn.get('/myTest1/', None)\n",
        "\n",
        "def update_word(record_id, new_count):\n",
        "    \"\"\"Update an existing word record\"\"\"\n",
        "    return FBconn.put('/myTest1/' + record_id, 'wordCount', new_count)\n",
        "\n",
        "def delete_record(record_id):\n",
        "    \"\"\"Delete a word record\"\"\"\n",
        "    return FBconn.delete('/myTest1/', record_id)\n",
        "\n",
        "def display_records():\n",
        "    \"\"\"Display all words records\"\"\"\n",
        "    records = get_all_records()\n",
        "    if records:\n",
        "        print(\"\\nCurrent Records:\")\n",
        "        for record_id, data in records.items():\n",
        "            print(f\"ID: {record_id} - wordCount: {data['wordCount']}\")\n",
        "    else:\n",
        "        print(\"\\nNo records found\")\n",
        "\n",
        "\n",
        "while True:\n",
        "    print(\"\\nWords Tracker Menu:\")\n",
        "    print(\"1. Add Single Word\")\n",
        "    print(\"2. Add Text For Analysis\")\n",
        "    print(\"3. Update Word Count\")\n",
        "    print(\"4. Delete word\")\n",
        "    print(\"5. View All Words\")\n",
        "    print(\"6. Exit\")\n",
        "\n",
        "    choice = input(\"\\nEnter your choice (1-6): \")\n",
        "\n",
        "    if choice == '1':\n",
        "        # Add new word\n",
        "        try:\n",
        "            word = input(\"What is the word? \").strip()\n",
        "            # Check if the input is only one word (no spaces)\n",
        "            if ' ' in word or word == '':\n",
        "              print(\"Please enter exactly one word without spaces.\")\n",
        "            else:\n",
        "              result = FBconn.get('/myTest1/'+word,None)\n",
        "              if(result==None):\n",
        "                  update_word(word,1)\n",
        "              else:\n",
        "                  update_word(word,result['wordCount']+1)\n",
        "              print(f\"Word '{word}' added successfully!\")\n",
        "        except ValueError:\n",
        "            print(\"Please enter a valid word\")\n",
        "\n",
        "    elif choice == '2':\n",
        "        try:\n",
        "            text = input(\"\\nEnter the Text To Analyze: \")\n",
        "            words = text.split()\n",
        "            for word in words:\n",
        "                result = FBconn.get('/myTest1/'+word,None)\n",
        "                if(result==None):\n",
        "                    update_word(word,1)\n",
        "                else:\n",
        "                    update_word(word,result['wordCount']+1)\n",
        "            print(\"text analsys successfull!\")\n",
        "        except ValueError:\n",
        "            print(\"Please enter a valid text\")\n",
        "\n",
        "    elif choice == '3':\n",
        "        # update word count\n",
        "        display_records()\n",
        "        record_id = input(\"\\nEnter the word to update: \")\n",
        "        result = FBconn.get('/myTest1/'+record_id,None)\n",
        "        if(result==None):\n",
        "            print(\"No such word exists\")\n",
        "        else:\n",
        "          new_count = input(\"Enter the new count: \")\n",
        "          result = update_word(record_id, new_count)\n",
        "          if result is not None:\n",
        "              print(\"Record updated successfully!\")\n",
        "          else:\n",
        "              print(\"Failed to update record. Check if the ID exists.\")\n",
        "\n",
        "    elif choice == '4':\n",
        "        # View all records\n",
        "        display_records()\n",
        "        record_id = input(\"\\nEnter the word to delete: \")\n",
        "        result = delete_record(record_id)\n",
        "        if result is None:\n",
        "            print(\"Record deleted successfully!\")\n",
        "        else:\n",
        "            print(\"Failed to delete record. Check if the ID exists.\")\n",
        "\n",
        "    elif choice == '5':\n",
        "        # View all records\n",
        "        display_records()\n",
        "\n",
        "    elif choice == '6':\n",
        "        print(\"Exiting program...\")\n",
        "        break\n",
        "\n",
        "    else:\n",
        "        print(\"Invalid choice. Please try again.\")\n"
      ]
    },
    {
      "cell_type": "code",
      "execution_count": null,
      "metadata": {
        "id": "MajC8hfgefYk"
      },
      "outputs": [],
      "source": []
    }
  ],
  "metadata": {
    "colab": {
      "provenance": []
    },
    "kernelspec": {
      "display_name": "Python 3",
      "name": "python3"
    },
    "language_info": {
      "name": "python"
    }
  },
  "nbformat": 4,
  "nbformat_minor": 0
}