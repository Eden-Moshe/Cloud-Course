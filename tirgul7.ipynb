{
  "nbformat": 4,
  "nbformat_minor": 0,
  "metadata": {
    "colab": {
      "provenance": []
    },
    "kernelspec": {
      "name": "python3",
      "display_name": "Python 3"
    },
    "language_info": {
      "name": "python"
    }
  },
  "cells": [
    {
      "cell_type": "code",
      "execution_count": null,
      "metadata": {
        "id": "5rNuGvi0Uxoh"
      },
      "outputs": [],
      "source": [
        "!pip install requests beautifulsoup4\n",
        "!pip install firebase\n",
        "import re\n",
        "from nltk.stem import PorterStemmer\n",
        "\n",
        "class IndexService:\n",
        "    def __init__(self):\n",
        "        self.index = {}\n",
        "\n",
        "    def index_words(self, text):\n",
        "        \"\"\"יוצר אינדקס של מילים מתוך טקסט\"\"\"\n",
        "        words = re.findall(r'\\w+', text)\n",
        "        for word in words:\n",
        "            word = word.lower()\n",
        "            if word in self.index:\n",
        "                self.index[word] += 1\n",
        "            else:\n",
        "                self.index[word] = 1\n",
        "\n",
        "    def remove_stop_words(self):\n",
        "        \"\"\"מסיר מילים נפוצות מהאינדקס\"\"\"\n",
        "        stop_words = {'a', 'an', 'the', 'and', 'or', 'in', 'on', 'at'}\n",
        "        for stop_word in stop_words:\n",
        "            self.index.pop(stop_word, None)\n",
        "\n",
        "    def apply_stemming(self):\n",
        "        \"\"\"ממיר מילים לשורשים שלהן (Stemming)\"\"\"\n",
        "        stemmer = PorterStemmer()\n",
        "        stemmed_index = {}\n",
        "        for word, count in self.index.items():\n",
        "            stemmed_word = stemmer.stem(word)\n",
        "            if stemmed_word in stemmed_index:\n",
        "                stemmed_index[stemmed_word] += count\n",
        "            else:\n",
        "                stemmed_index[stemmed_word] = count\n",
        "        self.index = stemmed_index\n",
        "\n",
        "    def search(self, query):\n",
        "        \"\"\"מחפש מילות מפתח באינדקס\"\"\"\n",
        "        stemmer = PorterStemmer()\n",
        "        query_words = re.findall(r'\\w+', query.lower())\n",
        "        results = {}\n",
        "        for word in query_words:\n",
        "            word = stemmer.stem(word)\n",
        "            if word in self.index:\n",
        "                results[word] = self.index[word]\n",
        "        return results\n",
        "\n",
        "    def get_index(self):\n",
        "        \"\"\"מחזיר את האינדקס הנוכחי\"\"\"\n",
        "        return self.index\n"
      ]
    },
    {
      "cell_type": "code",
      "source": [
        "from bs4 import BeautifulSoup\n",
        "from urllib.request import urlopen\n",
        "\n",
        "def fetch_page(url):\n",
        "    try:\n",
        "        response = urlopen(url)\n",
        "        return BeautifulSoup(response, 'html.parser')\n",
        "    except:\n",
        "        return None"
      ],
      "metadata": {
        "id": "S6SFemr0VIVL"
      },
      "execution_count": 20,
      "outputs": []
    },
    {
      "cell_type": "code",
      "source": [
        "from firebase import firebase\n",
        "\n",
        "class FirebaseService:\n",
        "    def __init__(self, db_link: str):\n",
        "        self.conn = firebase.FirebaseApplication(db_link, None)\n",
        "\n",
        "    def put(self, path: str, data: dict):\n",
        "        \"\"\"מכניס נתונים ל-Firebase תחת הנתיב שצוין\"\"\"\n",
        "        self.conn.put('/', path, data)\n",
        "        print(f\"✅ הנתונים נשמרו בהצלחה תחת /{path}\")\n",
        "\n",
        "    def fetch(self, path: str):\n",
        "        \"\"\"שולף נתונים מ-Firebase מתוך הנתיב שצוין\"\"\"\n",
        "        result = self.conn.get(f\"/{path}\", None)\n",
        "        print(f\"📥 נתונים התקבלו מתוך /{path}\")\n",
        "        return result\n"
      ],
      "metadata": {
        "id": "yL-b6XGdZLPp"
      },
      "execution_count": 21,
      "outputs": []
    },
    {
      "cell_type": "code",
      "source": [
        "# טען את הדף מהאינטרנט\n",
        "url = 'https://www.arianagrande.com/'\n",
        "soup = fetch_page(url)\n",
        "fire = FirebaseService(\"https://cloud7-38a0b-default-rtdb.firebaseio.com/\")\n",
        "# צור אינדקס, נקה מילים נפוצות, והחזר תוצאות חיפוש\n",
        "if soup:\n",
        "    service = IndexService()\n",
        "    service.index_words(soup.get_text())      # שלב 1: אינדוקס\n",
        "    service.remove_stop_words()               # שלב 2: הסרת מילים נפוצות\n",
        "    service.apply_stemming()                  # שלב 3: קיצור למילים בסיסיות (stemming)\n",
        "    result = service.search('shop buy ariana music grande video eternal sunshine brighter days')\n",
        "\n",
        "    print(result)\n",
        "    fire.put(\"words\",result)\n",
        "    print(fire.fetch(\"words\"))\n",
        "    query = \"eternal\"\n",
        "    results = service.search(query)\n",
        "    print(\"\\n🔎 תוצאות חיפוש עבור השאילתה:\", query)\n",
        "    print(results)\n",
        "else:\n",
        "    print(\"לא ניתן לטעון את הדף.\")\n"
      ],
      "metadata": {
        "id": "2bCl8WWHVtVS"
      },
      "execution_count": null,
      "outputs": []
    }
  ]
}