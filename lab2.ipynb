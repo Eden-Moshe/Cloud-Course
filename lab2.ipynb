{
  "nbformat": 4,
  "nbformat_minor": 0,
  "metadata": {
    "colab": {
      "provenance": []
    },
    "kernelspec": {
      "name": "python3",
      "display_name": "Python 3"
    },
    "language_info": {
      "name": "python"
    },
    "widgets": {
      "application/vnd.jupyter.widget-state+json": {
        "0d5e37d6206b47b3ab3563eaf91dd75a": {
          "model_module": "@jupyter-widgets/controls",
          "model_name": "DropdownModel",
          "model_module_version": "1.5.0",
          "state": {
            "_dom_classes": [],
            "_model_module": "@jupyter-widgets/controls",
            "_model_module_version": "1.5.0",
            "_model_name": "DropdownModel",
            "_options_labels": [
              "Shalev",
              "Bari",
              "Ron",
              "Sheli",
              "Eden",
              "Yaniv"
            ],
            "_view_count": null,
            "_view_module": "@jupyter-widgets/controls",
            "_view_module_version": "1.5.0",
            "_view_name": "DropdownView",
            "description": "Student:",
            "description_tooltip": null,
            "disabled": false,
            "index": 0,
            "layout": "IPY_MODEL_81f0f5b9c3e54dc8af83e6c51b289210",
            "style": "IPY_MODEL_31266572d5e64862955a3483a471efdc"
          }
        },
        "81f0f5b9c3e54dc8af83e6c51b289210": {
          "model_module": "@jupyter-widgets/base",
          "model_name": "LayoutModel",
          "model_module_version": "1.2.0",
          "state": {
            "_model_module": "@jupyter-widgets/base",
            "_model_module_version": "1.2.0",
            "_model_name": "LayoutModel",
            "_view_count": null,
            "_view_module": "@jupyter-widgets/base",
            "_view_module_version": "1.2.0",
            "_view_name": "LayoutView",
            "align_content": null,
            "align_items": null,
            "align_self": null,
            "border": null,
            "bottom": null,
            "display": null,
            "flex": null,
            "flex_flow": null,
            "grid_area": null,
            "grid_auto_columns": null,
            "grid_auto_flow": null,
            "grid_auto_rows": null,
            "grid_column": null,
            "grid_gap": null,
            "grid_row": null,
            "grid_template_areas": null,
            "grid_template_columns": null,
            "grid_template_rows": null,
            "height": null,
            "justify_content": null,
            "justify_items": null,
            "left": null,
            "margin": null,
            "max_height": null,
            "max_width": null,
            "min_height": null,
            "min_width": null,
            "object_fit": null,
            "object_position": null,
            "order": null,
            "overflow": null,
            "overflow_x": null,
            "overflow_y": null,
            "padding": null,
            "right": null,
            "top": null,
            "visibility": null,
            "width": null
          }
        },
        "31266572d5e64862955a3483a471efdc": {
          "model_module": "@jupyter-widgets/controls",
          "model_name": "DescriptionStyleModel",
          "model_module_version": "1.5.0",
          "state": {
            "_model_module": "@jupyter-widgets/controls",
            "_model_module_version": "1.5.0",
            "_model_name": "DescriptionStyleModel",
            "_view_count": null,
            "_view_module": "@jupyter-widgets/base",
            "_view_module_version": "1.2.0",
            "_view_name": "StyleView",
            "description_width": ""
          }
        },
        "3808d7bca28146bd9dc771b828eef399": {
          "model_module": "@jupyter-widgets/controls",
          "model_name": "TextModel",
          "model_module_version": "1.5.0",
          "state": {
            "_dom_classes": [],
            "_model_module": "@jupyter-widgets/controls",
            "_model_module_version": "1.5.0",
            "_model_name": "TextModel",
            "_view_count": null,
            "_view_module": "@jupyter-widgets/controls",
            "_view_module_version": "1.5.0",
            "_view_name": "TextView",
            "continuous_update": true,
            "description": "Last Name:",
            "description_tooltip": null,
            "disabled": true,
            "layout": "IPY_MODEL_e32c90ac395d4689817a0275494624d3",
            "placeholder": "​",
            "style": "IPY_MODEL_efa470ae418f48d4adf52c7e984653d6",
            "value": "Cohen"
          }
        },
        "e32c90ac395d4689817a0275494624d3": {
          "model_module": "@jupyter-widgets/base",
          "model_name": "LayoutModel",
          "model_module_version": "1.2.0",
          "state": {
            "_model_module": "@jupyter-widgets/base",
            "_model_module_version": "1.2.0",
            "_model_name": "LayoutModel",
            "_view_count": null,
            "_view_module": "@jupyter-widgets/base",
            "_view_module_version": "1.2.0",
            "_view_name": "LayoutView",
            "align_content": null,
            "align_items": null,
            "align_self": null,
            "border": null,
            "bottom": null,
            "display": null,
            "flex": null,
            "flex_flow": null,
            "grid_area": null,
            "grid_auto_columns": null,
            "grid_auto_flow": null,
            "grid_auto_rows": null,
            "grid_column": null,
            "grid_gap": null,
            "grid_row": null,
            "grid_template_areas": null,
            "grid_template_columns": null,
            "grid_template_rows": null,
            "height": null,
            "justify_content": null,
            "justify_items": null,
            "left": null,
            "margin": null,
            "max_height": null,
            "max_width": null,
            "min_height": null,
            "min_width": null,
            "object_fit": null,
            "object_position": null,
            "order": null,
            "overflow": null,
            "overflow_x": null,
            "overflow_y": null,
            "padding": null,
            "right": null,
            "top": null,
            "visibility": null,
            "width": null
          }
        },
        "efa470ae418f48d4adf52c7e984653d6": {
          "model_module": "@jupyter-widgets/controls",
          "model_name": "DescriptionStyleModel",
          "model_module_version": "1.5.0",
          "state": {
            "_model_module": "@jupyter-widgets/controls",
            "_model_module_version": "1.5.0",
            "_model_name": "DescriptionStyleModel",
            "_view_count": null,
            "_view_module": "@jupyter-widgets/base",
            "_view_module_version": "1.2.0",
            "_view_name": "StyleView",
            "description_width": ""
          }
        },
        "4d887f9187f442b08787af928c7f2289": {
          "model_module": "@jupyter-widgets/controls",
          "model_name": "TextModel",
          "model_module_version": "1.5.0",
          "state": {
            "_dom_classes": [],
            "_model_module": "@jupyter-widgets/controls",
            "_model_module_version": "1.5.0",
            "_model_name": "TextModel",
            "_view_count": null,
            "_view_module": "@jupyter-widgets/controls",
            "_view_module_version": "1.5.0",
            "_view_name": "TextView",
            "continuous_update": true,
            "description": "Email:",
            "description_tooltip": null,
            "disabled": true,
            "layout": "IPY_MODEL_b870c48e6aa24a5cb4f354cfc31499e5",
            "placeholder": "​",
            "style": "IPY_MODEL_42c88c818ede4f2aabebbbd86efaece3",
            "value": "shalev.cohen@e.braude.ac.il"
          }
        },
        "b870c48e6aa24a5cb4f354cfc31499e5": {
          "model_module": "@jupyter-widgets/base",
          "model_name": "LayoutModel",
          "model_module_version": "1.2.0",
          "state": {
            "_model_module": "@jupyter-widgets/base",
            "_model_module_version": "1.2.0",
            "_model_name": "LayoutModel",
            "_view_count": null,
            "_view_module": "@jupyter-widgets/base",
            "_view_module_version": "1.2.0",
            "_view_name": "LayoutView",
            "align_content": null,
            "align_items": null,
            "align_self": null,
            "border": null,
            "bottom": null,
            "display": null,
            "flex": null,
            "flex_flow": null,
            "grid_area": null,
            "grid_auto_columns": null,
            "grid_auto_flow": null,
            "grid_auto_rows": null,
            "grid_column": null,
            "grid_gap": null,
            "grid_row": null,
            "grid_template_areas": null,
            "grid_template_columns": null,
            "grid_template_rows": null,
            "height": null,
            "justify_content": null,
            "justify_items": null,
            "left": null,
            "margin": null,
            "max_height": null,
            "max_width": null,
            "min_height": null,
            "min_width": null,
            "object_fit": null,
            "object_position": null,
            "order": null,
            "overflow": null,
            "overflow_x": null,
            "overflow_y": null,
            "padding": null,
            "right": null,
            "top": null,
            "visibility": null,
            "width": null
          }
        },
        "42c88c818ede4f2aabebbbd86efaece3": {
          "model_module": "@jupyter-widgets/controls",
          "model_name": "DescriptionStyleModel",
          "model_module_version": "1.5.0",
          "state": {
            "_model_module": "@jupyter-widgets/controls",
            "_model_module_version": "1.5.0",
            "_model_name": "DescriptionStyleModel",
            "_view_count": null,
            "_view_module": "@jupyter-widgets/base",
            "_view_module_version": "1.2.0",
            "_view_name": "StyleView",
            "description_width": ""
          }
        },
        "c74c20c0926a451b8379777dd5ac4b11": {
          "model_module": "@jupyter-widgets/controls",
          "model_name": "TextModel",
          "model_module_version": "1.5.0",
          "state": {
            "_dom_classes": [],
            "_model_module": "@jupyter-widgets/controls",
            "_model_module_version": "1.5.0",
            "_model_name": "TextModel",
            "_view_count": null,
            "_view_module": "@jupyter-widgets/controls",
            "_view_module_version": "1.5.0",
            "_view_name": "TextView",
            "continuous_update": true,
            "description": "courses:",
            "description_tooltip": null,
            "disabled": true,
            "layout": "IPY_MODEL_22ce4a22b5ec479980b33eb95a6bc39f",
            "placeholder": "​",
            "style": "IPY_MODEL_ca1e78b19839491e8f134e0883aa506e",
            "value": "Algebra"
          }
        },
        "22ce4a22b5ec479980b33eb95a6bc39f": {
          "model_module": "@jupyter-widgets/base",
          "model_name": "LayoutModel",
          "model_module_version": "1.2.0",
          "state": {
            "_model_module": "@jupyter-widgets/base",
            "_model_module_version": "1.2.0",
            "_model_name": "LayoutModel",
            "_view_count": null,
            "_view_module": "@jupyter-widgets/base",
            "_view_module_version": "1.2.0",
            "_view_name": "LayoutView",
            "align_content": null,
            "align_items": null,
            "align_self": null,
            "border": null,
            "bottom": null,
            "display": null,
            "flex": null,
            "flex_flow": null,
            "grid_area": null,
            "grid_auto_columns": null,
            "grid_auto_flow": null,
            "grid_auto_rows": null,
            "grid_column": null,
            "grid_gap": null,
            "grid_row": null,
            "grid_template_areas": null,
            "grid_template_columns": null,
            "grid_template_rows": null,
            "height": null,
            "justify_content": null,
            "justify_items": null,
            "left": null,
            "margin": null,
            "max_height": null,
            "max_width": null,
            "min_height": null,
            "min_width": null,
            "object_fit": null,
            "object_position": null,
            "order": null,
            "overflow": null,
            "overflow_x": null,
            "overflow_y": null,
            "padding": null,
            "right": null,
            "top": null,
            "visibility": null,
            "width": null
          }
        },
        "ca1e78b19839491e8f134e0883aa506e": {
          "model_module": "@jupyter-widgets/controls",
          "model_name": "DescriptionStyleModel",
          "model_module_version": "1.5.0",
          "state": {
            "_model_module": "@jupyter-widgets/controls",
            "_model_module_version": "1.5.0",
            "_model_name": "DescriptionStyleModel",
            "_view_count": null,
            "_view_module": "@jupyter-widgets/base",
            "_view_module_version": "1.2.0",
            "_view_name": "StyleView",
            "description_width": ""
          }
        },
        "8c95c94e6db74fcf9fb86eb5c69bc5bb": {
          "model_module": "@jupyter-widgets/controls",
          "model_name": "TextModel",
          "model_module_version": "1.5.0",
          "state": {
            "_dom_classes": [],
            "_model_module": "@jupyter-widgets/controls",
            "_model_module_version": "1.5.0",
            "_model_name": "TextModel",
            "_view_count": null,
            "_view_module": "@jupyter-widgets/controls",
            "_view_module_version": "1.5.0",
            "_view_name": "TextView",
            "continuous_update": true,
            "description": "interesting link:",
            "description_tooltip": null,
            "disabled": true,
            "layout": "IPY_MODEL_c8e266d1ef6742d9b28c0087109885f3",
            "placeholder": "​",
            "style": "IPY_MODEL_3697bee848424312887947be22eebf16",
            "value": "https://www.youtube.com/watch?v=3oem-M2tQU4"
          }
        },
        "c8e266d1ef6742d9b28c0087109885f3": {
          "model_module": "@jupyter-widgets/base",
          "model_name": "LayoutModel",
          "model_module_version": "1.2.0",
          "state": {
            "_model_module": "@jupyter-widgets/base",
            "_model_module_version": "1.2.0",
            "_model_name": "LayoutModel",
            "_view_count": null,
            "_view_module": "@jupyter-widgets/base",
            "_view_module_version": "1.2.0",
            "_view_name": "LayoutView",
            "align_content": null,
            "align_items": null,
            "align_self": null,
            "border": null,
            "bottom": null,
            "display": null,
            "flex": null,
            "flex_flow": null,
            "grid_area": null,
            "grid_auto_columns": null,
            "grid_auto_flow": null,
            "grid_auto_rows": null,
            "grid_column": null,
            "grid_gap": null,
            "grid_row": null,
            "grid_template_areas": null,
            "grid_template_columns": null,
            "grid_template_rows": null,
            "height": null,
            "justify_content": null,
            "justify_items": null,
            "left": null,
            "margin": null,
            "max_height": null,
            "max_width": null,
            "min_height": null,
            "min_width": null,
            "object_fit": null,
            "object_position": null,
            "order": null,
            "overflow": null,
            "overflow_x": null,
            "overflow_y": null,
            "padding": null,
            "right": null,
            "top": null,
            "visibility": null,
            "width": null
          }
        },
        "3697bee848424312887947be22eebf16": {
          "model_module": "@jupyter-widgets/controls",
          "model_name": "DescriptionStyleModel",
          "model_module_version": "1.5.0",
          "state": {
            "_model_module": "@jupyter-widgets/controls",
            "_model_module_version": "1.5.0",
            "_model_name": "DescriptionStyleModel",
            "_view_count": null,
            "_view_module": "@jupyter-widgets/base",
            "_view_module_version": "1.2.0",
            "_view_name": "StyleView",
            "description_width": ""
          }
        }
      }
    }
  },
  "cells": [
    {
      "cell_type": "code",
      "source": [
        "import json\n",
        "import ipywidgets as widgets\n",
        "from IPython.display import display"
      ],
      "metadata": {
        "id": "3891TgKENEcB"
      },
      "execution_count": 51,
      "outputs": []
    },
    {
      "cell_type": "code",
      "source": [
        "with open(\"students.json\", \"r\") as fid:\n",
        "  students_text = fid.read()\n",
        "  students_arr =  json.loads(students_text)"
      ],
      "metadata": {
        "id": "0LsvqFH-Pwfe"
      },
      "execution_count": 52,
      "outputs": []
    },
    {
      "cell_type": "code",
      "execution_count": 53,
      "metadata": {
        "id": "zL1YNRf4LyNV"
      },
      "outputs": [],
      "source": [
        "names=[]\n",
        "for student in students_arr:\n",
        "    names.append(student[\"firstName\"])"
      ]
    },
    {
      "cell_type": "code",
      "source": [
        "dropdown = widgets.Dropdown(\n",
        "    options=names,\n",
        "    description='Student:',\n",
        "    value=names[0]\n",
        ")\n",
        "display(dropdown)"
      ],
      "metadata": {
        "colab": {
          "base_uri": "https://localhost:8080/",
          "height": 49,
          "referenced_widgets": [
            "0d5e37d6206b47b3ab3563eaf91dd75a",
            "81f0f5b9c3e54dc8af83e6c51b289210",
            "31266572d5e64862955a3483a471efdc"
          ]
        },
        "id": "TVmfuD9TUDAc",
        "outputId": "d65d3542-34c1-4375-a9ba-5f5d8886c526"
      },
      "execution_count": 54,
      "outputs": [
        {
          "output_type": "display_data",
          "data": {
            "text/plain": [
              "Dropdown(description='Student:', options=('Shalev', 'Bari', 'Ron', 'Sheli', 'Eden', 'Yaniv'), value='Shalev')"
            ],
            "application/vnd.jupyter.widget-view+json": {
              "version_major": 2,
              "version_minor": 0,
              "model_id": "0d5e37d6206b47b3ab3563eaf91dd75a"
            }
          },
          "metadata": {}
        }
      ]
    },
    {
      "cell_type": "code",
      "source": [
        "selected_value = dropdown.value\n",
        "last_name_box = widgets.Text(description='Last Name:', disabled=True)\n",
        "email_box = widgets.Text(description='Email:', disabled=True)\n",
        "course_box = widgets.Text(description='courses:', disabled=True)\n",
        "link_box = widgets.Text(description='interesting link:', disabled=True)\n",
        "student_box = widgets.VBox([])\n"
      ],
      "metadata": {
        "id": "tGGUHug_Vlm5"
      },
      "execution_count": 55,
      "outputs": []
    },
    {
      "cell_type": "code",
      "source": [
        "for student in students_arr:\n",
        "    if student[\"firstName\"] == selected_value:\n",
        "        last_name_box.value = student[\"lastName\"]\n",
        "        email_box.value = student[\"email\"]\n",
        "        course_box.value = student[\"courses\"]\n",
        "        link_box.value = student[\"link\"]\n",
        "        break\n",
        "display(last_name_box, email_box, course_box, link_box)"
      ],
      "metadata": {
        "colab": {
          "base_uri": "https://localhost:8080/",
          "height": 139,
          "referenced_widgets": [
            "3808d7bca28146bd9dc771b828eef399",
            "e32c90ac395d4689817a0275494624d3",
            "efa470ae418f48d4adf52c7e984653d6",
            "4d887f9187f442b08787af928c7f2289",
            "b870c48e6aa24a5cb4f354cfc31499e5",
            "42c88c818ede4f2aabebbbd86efaece3",
            "c74c20c0926a451b8379777dd5ac4b11",
            "22ce4a22b5ec479980b33eb95a6bc39f",
            "ca1e78b19839491e8f134e0883aa506e",
            "8c95c94e6db74fcf9fb86eb5c69bc5bb",
            "c8e266d1ef6742d9b28c0087109885f3",
            "3697bee848424312887947be22eebf16"
          ]
        },
        "id": "GCI4mi3CYx2k",
        "outputId": "d3f0f54e-6892-48e4-efe2-d52451755313"
      },
      "execution_count": 56,
      "outputs": [
        {
          "output_type": "display_data",
          "data": {
            "text/plain": [
              "Text(value='Cohen', description='Last Name:', disabled=True)"
            ],
            "application/vnd.jupyter.widget-view+json": {
              "version_major": 2,
              "version_minor": 0,
              "model_id": "3808d7bca28146bd9dc771b828eef399"
            }
          },
          "metadata": {}
        },
        {
          "output_type": "display_data",
          "data": {
            "text/plain": [
              "Text(value='shalev.cohen@e.braude.ac.il', description='Email:', disabled=True)"
            ],
            "application/vnd.jupyter.widget-view+json": {
              "version_major": 2,
              "version_minor": 0,
              "model_id": "4d887f9187f442b08787af928c7f2289"
            }
          },
          "metadata": {}
        },
        {
          "output_type": "display_data",
          "data": {
            "text/plain": [
              "Text(value='Algebra', description='courses:', disabled=True)"
            ],
            "application/vnd.jupyter.widget-view+json": {
              "version_major": 2,
              "version_minor": 0,
              "model_id": "c74c20c0926a451b8379777dd5ac4b11"
            }
          },
          "metadata": {}
        },
        {
          "output_type": "display_data",
          "data": {
            "text/plain": [
              "Text(value='https://www.youtube.com/watch?v=3oem-M2tQU4', description='interesting link:', disabled=True)"
            ],
            "application/vnd.jupyter.widget-view+json": {
              "version_major": 2,
              "version_minor": 0,
              "model_id": "8c95c94e6db74fcf9fb86eb5c69bc5bb"
            }
          },
          "metadata": {}
        }
      ]
    },
    {
      "cell_type": "code",
      "source": [
        "print(\"Add a tv series: \")\n",
        "tv_series = input()\n",
        "newData = {\"TV\": tv_series}\n",
        "for student in students_arr:\n",
        "    if student[\"firstName\"] == selected_value:\n",
        "      student.update(newData)\n"
      ],
      "metadata": {
        "colab": {
          "base_uri": "https://localhost:8080/"
        },
        "id": "9cQZCPjfaFN_",
        "outputId": "550e7db8-f9ca-42a3-8be4-2bbc23c28dc3"
      },
      "execution_count": 60,
      "outputs": [
        {
          "name": "stdout",
          "output_type": "stream",
          "text": [
            "Add a tv series: \n",
            "game of thrones\n"
          ]
        }
      ]
    },
    {
      "cell_type": "code",
      "source": [],
      "metadata": {
        "colab": {
          "base_uri": "https://localhost:8080/"
        },
        "id": "MVpshM1FbxWI",
        "outputId": "838b7032-30ad-4f89-87a2-3d13f9d1898a"
      },
      "execution_count": 61,
      "outputs": [
        {
          "output_type": "execute_result",
          "data": {
            "text/plain": [
              "[{'firstName': 'Shalev',\n",
              "  'lastName': 'Cohen',\n",
              "  'email': 'shalev.cohen@e.braude.ac.il',\n",
              "  'courses': 'Algebra',\n",
              "  'link': 'https://www.youtube.com/watch?v=3oem-M2tQU4',\n",
              "  'TV': 'game of thrones'},\n",
              " {'firstName': 'Bari',\n",
              "  'lastName': 'Cohen',\n",
              "  'email': 'bari.cohen@e.braude.ac.il',\n",
              "  'courses': 'Tennis',\n",
              "  'link': 'https://www.youtube.com/watch?v=gZiuvUoFSJo'},\n",
              " {'firstName': 'Ron',\n",
              "  'lastName': 'Kroitoro',\n",
              "  'email': 'ron.kroitoro@e.braude.ac.il',\n",
              "  'courses': 'Architechture',\n",
              "  'link': 'https://www.youtube.com/watch?v=Wde60tGdq3Q'},\n",
              " {'firstName': 'Sheli',\n",
              "  'lastName': 'Zisman',\n",
              "  'email': 'sheli.zisman@e.braude.ac.il',\n",
              "  'courses': 'Calculus',\n",
              "  'link': 'https://www.youtube.com/watch?v=dK9yCOQu0wM'},\n",
              " {'firstName': 'Eden',\n",
              "  'lastName': 'Moshe',\n",
              "  'email': 'eden.moshe@e.braude.ac.il',\n",
              "  'courses': 'Cloud Computing',\n",
              "  'link': 'https://www.youtube.com/watch?v=mwwbhB34iQU'},\n",
              " {'firstName': 'Yaniv',\n",
              "  'lastName': 'Shtein',\n",
              "  'email': 'yaniv.shtein@e.braude.ac.il',\n",
              "  'courses': 'Computer Science',\n",
              "  'link': 'https://www.youtube.com/watch?v=WXLIBLP0ooE'}]"
            ]
          },
          "metadata": {},
          "execution_count": 61
        }
      ]
    },
    {
      "cell_type": "code",
      "source": [
        "with open(\"students.json\", \"w\") as fid:\n",
        "  json.dump(students_arr, fid, indent = 4)"
      ],
      "metadata": {
        "id": "Bf6OAdySbx7E"
      },
      "execution_count": 63,
      "outputs": []
    }
  ]
}